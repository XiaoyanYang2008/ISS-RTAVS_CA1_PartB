{
 "cells": [
  {
   "cell_type": "markdown",
   "metadata": {},
   "source": [
    "# Team 5 members: Ang Boon Yew (A0096966E), Tea Lee Seng (A0198538J), Yang Xiaoyan (A0056720L)"
   ]
  },
  {
   "cell_type": "code",
   "execution_count": 1,
   "metadata": {},
   "outputs": [
    {
     "name": "stderr",
     "output_type": "stream",
     "text": [
      "Using TensorFlow backend.\n"
     ]
    }
   ],
   "source": [
    "# -*- coding: utf-8 -*-\n",
    "\n",
    "# Import libraries\n",
    "# .................\n",
    "\n",
    "import os\n",
    "import librosa   #for audio processing\n",
    "import warnings\n",
    "import pandas as pd\n",
    "import librosa.display\n",
    "import matplotlib.pyplot as plt\n",
    "import numpy as np\n",
    "import sklearn.metrics as metrics\n",
    "\n",
    "from scipy.io import wavfile #for audio processing\n",
    "from sklearn.preprocessing import LabelEncoder\n",
    "from sklearn.model_selection import train_test_split\n",
    "from tensorflow.keras.layers import Dense\n",
    "from tensorflow.keras.layers import Dropout\n",
    "from tensorflow.keras.layers import Flatten\n",
    "from tensorflow.keras.layers import Input\n",
    "from tensorflow.keras.models import Model\n",
    "from tensorflow.keras.callbacks import ModelCheckpoint\n",
    "from tensorflow.keras.callbacks import CSVLogger\n",
    "from tensorflow.keras.utils import to_categorical\n",
    "from tensorflow.keras.utils import plot_model\n",
    "from keras.models import Sequential\n",
    "from keras.layers import Dense, Dropout, Activation, Flatten\n",
    "from keras.layers import Convolution2D, Conv2D, MaxPooling2D, GlobalAveragePooling2D\n",
    "from keras.optimizers import Adam\n",
    "from keras.utils import np_utils\n",
    "from datetime import datetime \n",
    "\n",
    "warnings.filterwarnings(\"ignore\")"
   ]
  },
  {
   "cell_type": "code",
   "execution_count": 2,
   "metadata": {},
   "outputs": [],
   "source": [
    "# ...........................................................................\n",
    "\n",
    "                                        # basic setup\n",
    "\n",
    "audioPth        = 'speechsub'\n",
    "resmpRate       = 8000\n",
    "inputLength     = 8000\n",
    "modelname       = 'speechRV1'\n",
    "\n",
    "                            # Set up 'ggplot' style\n",
    "plt.style.use('ggplot')     # if want to use the default style, set 'classic'\n",
    "plt.rcParams['ytick.right']     = True\n",
    "plt.rcParams['ytick.labelright']= True\n",
    "plt.rcParams['ytick.left']      = False\n",
    "plt.rcParams['ytick.labelleft'] = False\n",
    "plt.rcParams['font.family']     = 'Arial'"
   ]
  },
  {
   "cell_type": "code",
   "execution_count": 3,
   "metadata": {},
   "outputs": [
    {
     "name": "stdout",
     "output_type": "stream",
     "text": [
      "Inspecting data  ... \n"
     ]
    },
    {
     "data": {
      "image/png": "[encoded data removed]",
      "text/plain": [
       "<Figure size 576x576 with 1 Axes>"
      ]
     },
     "metadata": {},
     "output_type": "display_data"
    }
   ],
   "source": [
    "# ............................................................................\n",
    "print(\"Inspecting data  ... \")\n",
    "# Inspect the data set\n",
    "labels      = [\"go\",\n",
    "               \"stop\",\n",
    "               \"yes\", \n",
    "               \"no\", \n",
    "               \"up\", \n",
    "               \"down\", \n",
    "               \"left\", \n",
    "               \"right\", \n",
    "               \"on\", \n",
    "               \"off\"]\n",
    "\n",
    "                                            # Check the number of records available in\n",
    "                                            # each category\n",
    "numOfRecords= []\n",
    "\n",
    "for lbl in labels:\n",
    "    pth     = os.path.join(audioPth,lbl)    # Get the path (the directory) for each label\n",
    "    records = [f for f in os.listdir(pth) if f.endswith('.wav')]\n",
    "                                            # Get all the wave files in each directory\n",
    "    \n",
    "    numOfRecords.append(len(records))       # Get the number of wave files in each directory\n",
    "\n",
    "plt.figure(figsize=(8,8))\n",
    "plt.barh(np.arange(len(labels)), \n",
    "         numOfRecords,\n",
    "         color=\"C2\")\n",
    "plt.xlabel('No. of recordings')\n",
    "plt.ylabel('Commands')\n",
    "plt.yticks(np.arange(len(labels)), labels)\n",
    "plt.title('The dataset')\n",
    "plt.show()"
   ]
  },
  {
   "cell_type": "code",
   "execution_count": 4,
   "metadata": {
    "scrolled": true
   },
   "outputs": [
    {
     "data": {
      "image/png": "[encoded data removed]",
      "text/plain": [
       "<Figure size 576x576 with 1 Axes>"
      ]
     },
     "metadata": {},
     "output_type": "display_data"
    }
   ],
   "source": [
    "                                            # Check distribution of durations in \n",
    "                                            # the dataset\n",
    "durations   = []\n",
    "\n",
    "for lbl in labels:\n",
    "    pth     = os.path.join(audioPth,lbl)    # Get the path (the directory) for each label\n",
    "    records = [f for f in os.listdir(pth) if f.endswith('.wav')]\n",
    "                                            # Get all the wave files in each directory\n",
    "\n",
    "    for rcd in records:\n",
    "        (smpR,smp)  = wavfile.read(os.path.join(pth,rcd))\n",
    "        \n",
    "        durations.append(float(len(smp)/smpR))      \n",
    "                                            # Get the duration for each wave file\n",
    "\n",
    "plt.figure(figsize=(8,8))\n",
    "plt.title('The distribution of duration')\n",
    "plt.ylabel('The number of recordings')\n",
    "plt.xlabel('Time in seconds')\n",
    "durationHist    = plt.hist(durations)"
   ]
  },
  {
   "cell_type": "code",
   "execution_count": 5,
   "metadata": {},
   "outputs": [],
   "source": [
    "features = []\n",
    "sr=16000"
   ]
  },
  {
   "cell_type": "markdown",
   "metadata": {},
   "source": [
    "## mfccsscaled is the mean of mfcc, use this features for the training with MLP model. The accuracy is always around 0.5 maybe due to the mfcc features have been scaled."
   ]
  },
  {
   "cell_type": "code",
   "execution_count": 6,
   "metadata": {},
   "outputs": [],
   "source": [
    "# def extract_features(smp, sr):\n",
    "   \n",
    "#     try:\n",
    "#         audio, sample_rate = librosa.load(file_name, res_type='kaiser_fast') \n",
    "#         mfccs = librosa.feature.mfcc(y=smp, sr=sr, n_mfcc=60)\n",
    "#         mfccsscaled = np.mean(mfccs.T,axis=0)\n",
    "\n",
    "#     except Exception as e:\n",
    "#         print(\"Error encountered while parsing file: \", file_name)\n",
    "#         return None \n",
    "     \n",
    "#     return mfccsscaled"
   ]
  },
  {
   "cell_type": "code",
   "execution_count": 7,
   "metadata": {},
   "outputs": [],
   "source": [
    "# for lbl in labels:\n",
    "#     pth     = os.path.join(audioPth,lbl)    # Get the path (the directory) for each label\n",
    "#     records = [f for f in os.listdir(pth) if f.endswith('.wav')]\n",
    "#                                             # Get all the wave files in each directory\n",
    "\n",
    "#     for rcd in records:\n",
    "#         file_name = os.path.join(pth,rcd)\n",
    "#         class_label = lbl\n",
    "#         data = extract_features(file_name)\n",
    "#         features.append([data, class_label])"
   ]
  },
  {
   "cell_type": "code",
   "execution_count": 8,
   "metadata": {},
   "outputs": [],
   "source": [
    "# import numpy as np\n",
    "# from tensorflow.keras.models import Sequential\n",
    "# from tensorflow.keras.layers import Dense, Dropout, Activation, Flatten\n",
    "# from tensorflow.keras.optimizers import Adam\n",
    "# #from tensorflow.keras.utils import np_utils\n",
    "# from sklearn import metrics \n",
    "\n",
    "# num_labels = yy.shape[1]\n",
    "# filter_size = 2\n",
    "\n",
    "# # Construct model \n",
    "# model = Sequential()\n",
    "# model.add(Dense(256, input_shape=(60,)))\n",
    "# model.add(Activation('relu'))\n",
    "# model.add(Dropout(0.25))\n",
    "\n",
    "# model.add(Dense(64))\n",
    "# model.add(Activation('relu'))\n",
    "# model.add(Dropout(0.25))\n",
    "\n",
    "# model.add(Dense(128))\n",
    "# model.add(Activation('relu'))\n",
    "# model.add(Dropout(0.25))\n",
    "\n",
    "# model.add(Dense(256))\n",
    "# model.add(Activation('relu'))\n",
    "# model.add(Dropout(0.25))\n",
    "\n",
    "# model.add(Dense(512))\n",
    "# model.add(Activation('relu'))\n",
    "# model.add(Dropout(0.5))\n",
    "\n",
    "# model.add(Dense(num_labels))\n",
    "# model.add(Activation('softmax'))"
   ]
  },
  {
   "cell_type": "markdown",
   "metadata": {},
   "source": [
    "## Use mfcc features to train a CNN model, the accuracy is above 0.9 which is much better than mfcc scaled features."
   ]
  },
  {
   "cell_type": "code",
   "execution_count": 9,
   "metadata": {},
   "outputs": [],
   "source": [
    "def extract_features(smp):\n",
    "    try:\n",
    "        mfccs = librosa.feature.mfcc(y=smp, sr=sr, n_mfcc=60)\n",
    "\n",
    "    except Exception as e:\n",
    "        print(\"Error encountered while parsing file: \", file_name)\n",
    "        return None \n",
    "     \n",
    "    return mfccs"
   ]
  },
  {
   "cell_type": "code",
   "execution_count": 10,
   "metadata": {},
   "outputs": [],
   "source": [
    "for lbl in labels:\n",
    "    pth     = os.path.join(audioPth,lbl)    # Get the path (the directory) for each label\n",
    "    records = [f for f in os.listdir(pth) if f.endswith('.wav')]\n",
    "        # Get all the wave files in each directory\n",
    "    for rcd in records:\n",
    "        file_name = os.path.join(pth,rcd)\n",
    "        class_label = lbl\n",
    "        (smp,smpR)  = librosa.load(file_name,sr = sr)\n",
    "        # only extract the mfcc features with length of 1 second audios\n",
    "        if (len(smp)==sr):\n",
    "            data = extract_features(smp)\n",
    "            features.append([data, class_label])"
   ]
  },
  {
   "cell_type": "code",
   "execution_count": 11,
   "metadata": {},
   "outputs": [],
   "source": [
    "# Convert into a Panda dataframe \n",
    "featuresdf = pd.DataFrame(features, columns=['feature','class_label'])\n",
    "import pickle\n",
    "f=open('./mfccFeatures.pk','wb')\n",
    "pickle.dump(featuresdf, f)\n",
    "f.close()"
   ]
  },
  {
   "cell_type": "code",
   "execution_count": 12,
   "metadata": {},
   "outputs": [],
   "source": [
    "# Convert features and corresponding classification labels into numpy arrays\n",
    "X = np.array(featuresdf['feature'].tolist())\n",
    "y = np.array(featuresdf['class_label'].tolist())"
   ]
  },
  {
   "cell_type": "code",
   "execution_count": 13,
   "metadata": {},
   "outputs": [
    {
     "name": "stdout",
     "output_type": "stream",
     "text": [
      "['down' 'go' 'left' 'no' 'off' 'on' 'right' 'stop' 'up' 'yes']\n"
     ]
    }
   ],
   "source": [
    "# Encode the classification labels\n",
    "le = LabelEncoder()\n",
    "yy = to_categorical(le.fit_transform(y))\n",
    "num_labels = yy.shape[1]\n",
    "print(le.classes_)"
   ]
  },
  {
   "cell_type": "code",
   "execution_count": 15,
   "metadata": {},
   "outputs": [],
   "source": [
    "num_rows = 60 # equal to n_mfcc when do the mfcc feature extraction\n",
    "num_columns = 32 # 16000 / 512 = 31.25 roundup to 32, melspectrogram function, the default hop_lengths is 512\n",
    "num_channels = 1\n",
    "\n",
    "# split the dataset into training, validation and test sets\n",
    "x_train_r, x_TV_r, y_train_r, y_TV_r = train_test_split(X, yy, test_size=0.2, random_state = 42)\n",
    "x_valid_r, x_test_r, y_valid_r, y_test_r = train_test_split(x_TV_r,y_TV_r, test_size=0.3, random_state = 42)"
   ]
  },
  {
   "cell_type": "code",
   "execution_count": 16,
   "metadata": {},
   "outputs": [
    {
     "data": {
      "text/plain": [
       "(17049, 60, 32)"
      ]
     },
     "execution_count": 16,
     "metadata": {},
     "output_type": "execute_result"
    }
   ],
   "source": [
    "x_train_r.shape"
   ]
  },
  {
   "cell_type": "code",
   "execution_count": 17,
   "metadata": {},
   "outputs": [],
   "source": [
    "x_train_r = x_train_r.reshape(x_train_r.shape[0], num_rows, num_columns, num_channels)\n",
    "x_valid_r = x_valid_r.reshape(x_valid_r.shape[0], num_rows, num_columns, num_channels)\n",
    "x_test_r = x_test_r.reshape(x_test_r.shape[0], num_rows, num_columns, num_channels)"
   ]
  },
  {
   "cell_type": "code",
   "execution_count": 18,
   "metadata": {},
   "outputs": [
    {
     "data": {
      "text/plain": [
       "(17049, 60, 32, 1)"
      ]
     },
     "execution_count": 18,
     "metadata": {},
     "output_type": "execute_result"
    }
   ],
   "source": [
    "x_train_r.shape"
   ]
  },
  {
   "cell_type": "code",
   "execution_count": 19,
   "metadata": {},
   "outputs": [
    {
     "name": "stdout",
     "output_type": "stream",
     "text": [
      "WARNING:tensorflow:From C:\\Users\\qiexi\\Anaconda3\\lib\\site-packages\\tensorflow\\python\\framework\\op_def_library.py:263: colocate_with (from tensorflow.python.framework.ops) is deprecated and will be removed in a future version.\n",
      "Instructions for updating:\n",
      "Colocations handled automatically by placer.\n",
      "WARNING:tensorflow:From C:\\Users\\qiexi\\Anaconda3\\lib\\site-packages\\keras\\backend\\tensorflow_backend.py:2711: calling dropout (from tensorflow.python.ops.nn_ops) with keep_prob is deprecated and will be removed in a future version.\n",
      "Instructions for updating:\n",
      "Please use `rate` instead of `keep_prob`. Rate should be set to `rate = 1 - keep_prob`.\n"
     ]
    }
   ],
   "source": [
    "# Construct model \n",
    "model = Sequential()\n",
    "model.add(Conv2D(filters=16, kernel_size=2, input_shape=(num_rows, num_columns, num_channels), activation='relu'))\n",
    "model.add(MaxPooling2D(pool_size=2))\n",
    "model.add(Dropout(0.2))\n",
    "\n",
    "model.add(Conv2D(filters=32, kernel_size=2, activation='relu'))\n",
    "model.add(MaxPooling2D(pool_size=2))\n",
    "model.add(Dropout(0.2))\n",
    "\n",
    "model.add(Conv2D(filters=64, kernel_size=2, activation='relu'))\n",
    "model.add(MaxPooling2D(pool_size=2))\n",
    "model.add(Dropout(0.2))\n",
    "\n",
    "model.add(Conv2D(filters=128, kernel_size=2, activation='relu'))\n",
    "model.add(MaxPooling2D(pool_size=2))\n",
    "model.add(Dropout(0.2))\n",
    "model.add(GlobalAveragePooling2D())\n",
    "\n",
    "model.add(Dense(num_labels, activation='softmax'))"
   ]
  },
  {
   "cell_type": "code",
   "execution_count": 20,
   "metadata": {},
   "outputs": [
    {
     "name": "stdout",
     "output_type": "stream",
     "text": [
      "WARNING:tensorflow:From C:\\Users\\qiexi\\Anaconda3\\lib\\site-packages\\keras\\backend\\tensorflow_backend.py:2578: calling reduce_sum_v1 (from tensorflow.python.ops.math_ops) with keep_dims is deprecated and will be removed in a future version.\n",
      "Instructions for updating:\n",
      "keep_dims is deprecated, use keepdims instead\n",
      "_________________________________________________________________\n",
      "Layer (type)                 Output Shape              Param #   \n",
      "=================================================================\n",
      "conv2d_1 (Conv2D)            (None, 59, 31, 16)        80        \n",
      "_________________________________________________________________\n",
      "max_pooling2d_1 (MaxPooling2 (None, 29, 15, 16)        0         \n",
      "_________________________________________________________________\n",
      "dropout_1 (Dropout)          (None, 29, 15, 16)        0         \n",
      "_________________________________________________________________\n",
      "conv2d_2 (Conv2D)            (None, 28, 14, 32)        2080      \n",
      "_________________________________________________________________\n",
      "max_pooling2d_2 (MaxPooling2 (None, 14, 7, 32)         0         \n",
      "_________________________________________________________________\n",
      "dropout_2 (Dropout)          (None, 14, 7, 32)         0         \n",
      "_________________________________________________________________\n",
      "conv2d_3 (Conv2D)            (None, 13, 6, 64)         8256      \n",
      "_________________________________________________________________\n",
      "max_pooling2d_3 (MaxPooling2 (None, 6, 3, 64)          0         \n",
      "_________________________________________________________________\n",
      "dropout_3 (Dropout)          (None, 6, 3, 64)          0         \n",
      "_________________________________________________________________\n",
      "conv2d_4 (Conv2D)            (None, 5, 2, 128)         32896     \n",
      "_________________________________________________________________\n",
      "max_pooling2d_4 (MaxPooling2 (None, 2, 1, 128)         0         \n",
      "_________________________________________________________________\n",
      "dropout_4 (Dropout)          (None, 2, 1, 128)         0         \n",
      "_________________________________________________________________\n",
      "global_average_pooling2d_1 ( (None, 128)               0         \n",
      "_________________________________________________________________\n",
      "dense_1 (Dense)              (None, 10)                1290      \n",
      "=================================================================\n",
      "Total params: 44,602\n",
      "Trainable params: 44,602\n",
      "Non-trainable params: 0\n",
      "_________________________________________________________________\n"
     ]
    }
   ],
   "source": [
    "# Compile the model\n",
    "model.compile(loss='categorical_crossentropy', metrics=['accuracy'], optimizer='adam')\n",
    "\n",
    "# Display model architecture summary \n",
    "model.summary()"
   ]
  },
  {
   "cell_type": "code",
   "execution_count": 21,
   "metadata": {},
   "outputs": [
    {
     "name": "stdout",
     "output_type": "stream",
     "text": [
      "WARNING:tensorflow:From C:\\Users\\qiexi\\Anaconda3\\lib\\site-packages\\tensorflow\\python\\ops\\math_ops.py:3066: to_int32 (from tensorflow.python.ops.math_ops) is deprecated and will be removed in a future version.\n",
      "Instructions for updating:\n",
      "Use tf.cast instead.\n",
      "Train on 17049 samples, validate on 2984 samples\n",
      "Epoch 1/100\n",
      "17024/17049 [============================>.] - ETA: 0s - loss: 3.0957 - acc: 0.1178\n",
      "Epoch 00001: val_loss improved from inf to 2.24323, saving model to weights.best.speechDL.hdf5\n",
      "17049/17049 [==============================] - 12s - loss: 3.0946 - acc: 0.1177 - val_loss: 2.2432 - val_acc: 0.2185\n",
      "Epoch 2/100\n",
      "17024/17049 [============================>.] - ETA: 0s - loss: 2.1694 - acc: 0.1990\n",
      "Epoch 00002: val_loss improved from 2.24323 to 1.90265, saving model to weights.best.speechDL.hdf5\n",
      "17049/17049 [==============================] - 11s - loss: 2.1691 - acc: 0.1990 - val_loss: 1.9026 - val_acc: 0.4032\n",
      "Epoch 3/100\n",
      "17024/17049 [============================>.] - ETA: 0s - loss: 1.8707 - acc: 0.3239\n",
      "Epoch 00003: val_loss improved from 1.90265 to 1.42138, saving model to weights.best.speechDL.hdf5\n",
      "17049/17049 [==============================] - 12s - loss: 1.8700 - acc: 0.3241 - val_loss: 1.4214 - val_acc: 0.5550\n",
      "Epoch 4/100\n",
      "17024/17049 [============================>.] - ETA: 0s - loss: 1.6170 - acc: 0.4201\n",
      "Epoch 00004: val_loss improved from 1.42138 to 1.16004, saving model to weights.best.speechDL.hdf5\n",
      "17049/17049 [==============================] - 12s - loss: 1.6166 - acc: 0.4203 - val_loss: 1.1600 - val_acc: 0.6652\n",
      "Epoch 5/100\n",
      "17024/17049 [============================>.] - ETA: 0s - loss: 1.4093 - acc: 0.4996\n",
      "Epoch 00005: val_loss improved from 1.16004 to 0.93883, saving model to weights.best.speechDL.hdf5\n",
      "17049/17049 [==============================] - 11s - loss: 1.4092 - acc: 0.4997 - val_loss: 0.9388 - val_acc: 0.7182\n",
      "Epoch 6/100\n",
      "17024/17049 [============================>.] - ETA: 0s - loss: 1.2651 - acc: 0.5502- E\n",
      "Epoch 00006: val_loss improved from 0.93883 to 0.83523, saving model to weights.best.speechDL.hdf5\n",
      "17049/17049 [==============================] - 12s - loss: 1.2645 - acc: 0.5504 - val_loss: 0.8352 - val_acc: 0.7416\n",
      "Epoch 7/100\n",
      "17024/17049 [============================>.] - ETA: 0s - loss: 1.1642 - acc: 0.5925\n",
      "Epoch 00007: val_loss improved from 0.83523 to 0.75445, saving model to weights.best.speechDL.hdf5\n",
      "17049/17049 [==============================] - 12s - loss: 1.1641 - acc: 0.5925 - val_loss: 0.7545 - val_acc: 0.7748\n",
      "Epoch 8/100\n",
      "17024/17049 [============================>.] - ETA: 0s - loss: 1.0635 - acc: 0.6289\n",
      "Epoch 00008: val_loss improved from 0.75445 to 0.67512, saving model to weights.best.speechDL.hdf5\n",
      "17049/17049 [==============================] - 12s - loss: 1.0632 - acc: 0.6290 - val_loss: 0.6751 - val_acc: 0.7983\n",
      "Epoch 9/100\n",
      "17024/17049 [============================>.] - ETA: 0s - loss: 0.9934 - acc: 0.6588\n",
      "Epoch 00009: val_loss improved from 0.67512 to 0.63754, saving model to weights.best.speechDL.hdf5\n",
      "17049/17049 [==============================] - 12s - loss: 0.9934 - acc: 0.6590 - val_loss: 0.6375 - val_acc: 0.8080\n",
      "Epoch 10/100\n",
      "17024/17049 [============================>.] - ETA: 0s - loss: 0.9419 - acc: 0.6720- ETA: 0s - loss: 0.9413 - acc: \n",
      "Epoch 00010: val_loss improved from 0.63754 to 0.59591, saving model to weights.best.speechDL.hdf5\n",
      "17049/17049 [==============================] - 12s - loss: 0.9416 - acc: 0.6721 - val_loss: 0.5959 - val_acc: 0.8274\n",
      "Epoch 11/100\n",
      "17024/17049 [============================>.] - ETA: 0s - loss: 0.8930 - acc: 0.6909\n",
      "Epoch 00011: val_loss improved from 0.59591 to 0.56300, saving model to weights.best.speechDL.hdf5\n",
      "17049/17049 [==============================] - 12s - loss: 0.8930 - acc: 0.6910 - val_loss: 0.5630 - val_acc: 0.8257\n",
      "Epoch 12/100\n",
      "17024/17049 [============================>.] - ETA: 0s - loss: 0.8501 - acc: 0.7073\n",
      "Epoch 00012: val_loss improved from 0.56300 to 0.52332, saving model to weights.best.speechDL.hdf5\n",
      "17049/17049 [==============================] - 12s - loss: 0.8497 - acc: 0.7073 - val_loss: 0.5233 - val_acc: 0.8338\n",
      "Epoch 13/100\n",
      "17024/17049 [============================>.] - ETA: 0s - loss: 0.8154 - acc: 0.7155\n",
      "Epoch 00013: val_loss improved from 0.52332 to 0.48300, saving model to weights.best.speechDL.hdf5\n",
      "17049/17049 [==============================] - 12s - loss: 0.8154 - acc: 0.7155 - val_loss: 0.4830 - val_acc: 0.8549\n",
      "Epoch 14/100\n",
      "17024/17049 [============================>.] - ETA: 0s - loss: 0.7772 - acc: 0.7293\n",
      "Epoch 00014: val_loss improved from 0.48300 to 0.47669, saving model to weights.best.speechDL.hdf5\n",
      "17049/17049 [==============================] - 12s - loss: 0.7773 - acc: 0.7294 - val_loss: 0.4767 - val_acc: 0.8536\n",
      "Epoch 15/100\n",
      "17024/17049 [============================>.] - ETA: 0s - loss: 0.7637 - acc: 0.7351\n",
      "Epoch 00015: val_loss improved from 0.47669 to 0.44189, saving model to weights.best.speechDL.hdf5\n",
      "17049/17049 [==============================] - 12s - loss: 0.7639 - acc: 0.7352 - val_loss: 0.4419 - val_acc: 0.8653\n",
      "Epoch 16/100\n",
      "17024/17049 [============================>.] - ETA: 0s - loss: 0.7364 - acc: 0.7476\n",
      "Epoch 00016: val_loss improved from 0.44189 to 0.43592, saving model to weights.best.speechDL.hdf5\n",
      "17049/17049 [==============================] - 13s - loss: 0.7363 - acc: 0.7475 - val_loss: 0.4359 - val_acc: 0.8670\n",
      "Epoch 17/100\n",
      "17024/17049 [============================>.] - ETA: 0s - loss: 0.7317 - acc: 0.7465\n",
      "Epoch 00017: val_loss improved from 0.43592 to 0.42098, saving model to weights.best.speechDL.hdf5\n",
      "17049/17049 [==============================] - 13s - loss: 0.7313 - acc: 0.7466 - val_loss: 0.4210 - val_acc: 0.8663\n",
      "Epoch 18/100\n",
      "17024/17049 [============================>.] - ETA: 0s - loss: 0.6951 - acc: 0.7637\n",
      "Epoch 00018: val_loss improved from 0.42098 to 0.42075, saving model to weights.best.speechDL.hdf5\n",
      "17049/17049 [==============================] - 13s - loss: 0.6955 - acc: 0.7634 - val_loss: 0.4207 - val_acc: 0.8696\n",
      "Epoch 19/100\n",
      "17024/17049 [============================>.] - ETA: 0s - loss: 0.6885 - acc: 0.7590\n",
      "Epoch 00019: val_loss did not improve from 0.42075\n",
      "17049/17049 [==============================] - 13s - loss: 0.6885 - acc: 0.7590 - val_loss: 0.4221 - val_acc: 0.8706\n",
      "Epoch 20/100\n",
      "17024/17049 [============================>.] - ETA: 0s - loss: 0.6665 - acc: 0.7711\n",
      "Epoch 00020: val_loss improved from 0.42075 to 0.38233, saving model to weights.best.speechDL.hdf5\n",
      "17049/17049 [==============================] - 14s - loss: 0.6665 - acc: 0.7711 - val_loss: 0.3823 - val_acc: 0.8787\n",
      "Epoch 21/100\n",
      "17024/17049 [============================>.] - ETA: 0s - loss: 0.6589 - acc: 0.7746\n",
      "Epoch 00021: val_loss improved from 0.38233 to 0.38106, saving model to weights.best.speechDL.hdf5\n",
      "17049/17049 [==============================] - 13s - loss: 0.6586 - acc: 0.7747 - val_loss: 0.3811 - val_acc: 0.8851\n",
      "Epoch 22/100\n",
      "17024/17049 [============================>.] - ETA: 0s - loss: 0.6466 - acc: 0.7784\n",
      "Epoch 00022: val_loss did not improve from 0.38106\n",
      "17049/17049 [==============================] - 13s - loss: 0.6463 - acc: 0.7785 - val_loss: 0.3824 - val_acc: 0.8810\n",
      "Epoch 23/100\n",
      "17024/17049 [============================>.] - ETA: 0s - loss: 0.6438 - acc: 0.7820\n",
      "Epoch 00023: val_loss improved from 0.38106 to 0.36235, saving model to weights.best.speechDL.hdf5\n",
      "17049/17049 [==============================] - 13s - loss: 0.6437 - acc: 0.7820 - val_loss: 0.3624 - val_acc: 0.8897\n",
      "Epoch 24/100\n",
      "17024/17049 [============================>.] - ETA: 0s - loss: 0.6336 - acc: 0.7838\n",
      "Epoch 00024: val_loss improved from 0.36235 to 0.35554, saving model to weights.best.speechDL.hdf5\n",
      "17049/17049 [==============================] - 13s - loss: 0.6341 - acc: 0.7838 - val_loss: 0.3555 - val_acc: 0.8844\n",
      "Epoch 25/100\n",
      "17024/17049 [============================>.] - ETA: 0s - loss: 0.6217 - acc: 0.7855\n",
      "Epoch 00025: val_loss improved from 0.35554 to 0.35278, saving model to weights.best.speechDL.hdf5\n",
      "17049/17049 [==============================] - 13s - loss: 0.6224 - acc: 0.7855 - val_loss: 0.3528 - val_acc: 0.8861\n",
      "Epoch 26/100\n",
      "17024/17049 [============================>.] - ETA: 0s - loss: 0.6063 - acc: 0.7914\n",
      "Epoch 00026: val_loss improved from 0.35278 to 0.34197, saving model to weights.best.speechDL.hdf5\n"
     ]
    },
    {
     "name": "stdout",
     "output_type": "stream",
     "text": [
      "17049/17049 [==============================] - 13s - loss: 0.6058 - acc: 0.7915 - val_loss: 0.3420 - val_acc: 0.8948\n",
      "Epoch 27/100\n",
      "17024/17049 [============================>.] - ETA: 0s - loss: 0.6020 - acc: 0.7928- - ETA: 2s - lo\n",
      "Epoch 00027: val_loss improved from 0.34197 to 0.33074, saving model to weights.best.speechDL.hdf5\n",
      "17049/17049 [==============================] - 13s - loss: 0.6020 - acc: 0.7928 - val_loss: 0.3307 - val_acc: 0.8991\n",
      "Epoch 28/100\n",
      "17024/17049 [============================>.] - ETA: 0s - loss: 0.5960 - acc: 0.7946\n",
      "Epoch 00028: val_loss did not improve from 0.33074\n",
      "17049/17049 [==============================] - 12s - loss: 0.5961 - acc: 0.7945 - val_loss: 0.3508 - val_acc: 0.8981\n",
      "Epoch 29/100\n",
      "17024/17049 [============================>.] - ETA: 0s - loss: 0.5823 - acc: 0.8008- \n",
      "Epoch 00029: val_loss did not improve from 0.33074\n",
      "17049/17049 [==============================] - 12s - loss: 0.5821 - acc: 0.8008 - val_loss: 0.3402 - val_acc: 0.8975\n",
      "Epoch 30/100\n",
      "17024/17049 [============================>.] - ETA: 0s - loss: 0.5815 - acc: 0.8040\n",
      "Epoch 00030: val_loss did not improve from 0.33074\n",
      "17049/17049 [==============================] - 12s - loss: 0.5812 - acc: 0.8042 - val_loss: 0.3407 - val_acc: 0.8928\n",
      "Epoch 31/100\n",
      "17024/17049 [============================>.] - ETA: 0s - loss: 0.5741 - acc: 0.8052\n",
      "Epoch 00031: val_loss improved from 0.33074 to 0.32701, saving model to weights.best.speechDL.hdf5\n",
      "17049/17049 [==============================] - 13s - loss: 0.5741 - acc: 0.8053 - val_loss: 0.3270 - val_acc: 0.8991\n",
      "Epoch 32/100\n",
      "17024/17049 [============================>.] - ETA: 0s - loss: 0.5751 - acc: 0.8057\n",
      "Epoch 00032: val_loss did not improve from 0.32701\n",
      "17049/17049 [==============================] - 12s - loss: 0.5750 - acc: 0.8057 - val_loss: 0.3275 - val_acc: 0.8981\n",
      "Epoch 33/100\n",
      "17024/17049 [============================>.] - ETA: 0s - loss: 0.5612 - acc: 0.806 - ETA: 0s - loss: 0.5616 - acc: 0.8066\n",
      "Epoch 00033: val_loss did not improve from 0.32701\n",
      "17049/17049 [==============================] - 12s - loss: 0.5621 - acc: 0.8064 - val_loss: 0.3312 - val_acc: 0.9028\n",
      "Epoch 34/100\n",
      "17024/17049 [============================>.] - ETA: 0s - loss: 0.5576 - acc: 0.8043- ETA: \n",
      "Epoch 00034: val_loss improved from 0.32701 to 0.32651, saving model to weights.best.speechDL.hdf5\n",
      "17049/17049 [==============================] - 13s - loss: 0.5572 - acc: 0.8044 - val_loss: 0.3265 - val_acc: 0.8951\n",
      "Epoch 35/100\n",
      "17024/17049 [============================>.] - ETA: 0s - loss: 0.5462 - acc: 0.8129-\n",
      "Epoch 00035: val_loss improved from 0.32651 to 0.30058, saving model to weights.best.speechDL.hdf5\n",
      "17049/17049 [==============================] - 13s - loss: 0.5460 - acc: 0.8129 - val_loss: 0.3006 - val_acc: 0.9021\n",
      "Epoch 36/100\n",
      "17024/17049 [============================>.] - ETA: 0s - loss: 0.5442 - acc: 0.8120\n",
      "Epoch 00036: val_loss did not improve from 0.30058\n",
      "17049/17049 [==============================] - 13s - loss: 0.5441 - acc: 0.8120 - val_loss: 0.3095 - val_acc: 0.9018\n",
      "Epoch 37/100\n",
      "17024/17049 [============================>.] - ETA: 0s - loss: 0.5318 - acc: 0.8173\n",
      "Epoch 00037: val_loss did not improve from 0.30058\n",
      "17049/17049 [==============================] - 13s - loss: 0.5318 - acc: 0.8173 - val_loss: 0.3088 - val_acc: 0.9038\n",
      "Epoch 38/100\n",
      "17024/17049 [============================>.] - ETA: 0s - loss: 0.5271 - acc: 0.8238\n",
      "Epoch 00038: val_loss did not improve from 0.30058\n",
      "17049/17049 [==============================] - 13s - loss: 0.5269 - acc: 0.8239 - val_loss: 0.3039 - val_acc: 0.9038\n",
      "Epoch 39/100\n",
      "17024/17049 [============================>.] - ETA: 0s - loss: 0.5275 - acc: 0.8202\n",
      "Epoch 00039: val_loss did not improve from 0.30058\n",
      "17049/17049 [==============================] - 13s - loss: 0.5280 - acc: 0.8200 - val_loss: 0.3146 - val_acc: 0.9015\n",
      "Epoch 40/100\n",
      "17024/17049 [============================>.] - ETA: 0s - loss: 0.5271 - acc: 0.8221\n",
      "Epoch 00040: val_loss improved from 0.30058 to 0.28791, saving model to weights.best.speechDL.hdf5\n",
      "17049/17049 [==============================] - 13s - loss: 0.5269 - acc: 0.8222 - val_loss: 0.2879 - val_acc: 0.9068\n",
      "Epoch 41/100\n",
      "17024/17049 [============================>.] - ETA: 0s - loss: 0.5310 - acc: 0.8173\n",
      "Epoch 00041: val_loss did not improve from 0.28791\n",
      "17049/17049 [==============================] - 13s - loss: 0.5311 - acc: 0.8172 - val_loss: 0.2953 - val_acc: 0.9072\n",
      "Epoch 42/100\n",
      "17024/17049 [============================>.] - ETA: 0s - loss: 0.5140 - acc: 0.8255\n",
      "Epoch 00042: val_loss improved from 0.28791 to 0.28717, saving model to weights.best.speechDL.hdf5\n",
      "17049/17049 [==============================] - 13s - loss: 0.5137 - acc: 0.8256 - val_loss: 0.2872 - val_acc: 0.9095\n",
      "Epoch 43/100\n",
      "17024/17049 [============================>.] - ETA: 0s - loss: 0.5132 - acc: 0.8257\n",
      "Epoch 00043: val_loss did not improve from 0.28717\n",
      "17049/17049 [==============================] - 14s - loss: 0.5132 - acc: 0.8257 - val_loss: 0.2919 - val_acc: 0.9092\n",
      "Epoch 44/100\n",
      "17024/17049 [============================>.] - ETA: 0s - loss: 0.5081 - acc: 0.8214\n",
      "Epoch 00044: val_loss did not improve from 0.28717\n",
      "17049/17049 [==============================] - 13s - loss: 0.5085 - acc: 0.8212 - val_loss: 0.3017 - val_acc: 0.9028\n",
      "Epoch 45/100\n",
      "17024/17049 [============================>.] - ETA: 0s - loss: 0.4951 - acc: 0.8309\n",
      "Epoch 00045: val_loss improved from 0.28717 to 0.28489, saving model to weights.best.speechDL.hdf5\n",
      "17049/17049 [==============================] - 13s - loss: 0.4948 - acc: 0.8310 - val_loss: 0.2849 - val_acc: 0.9095\n",
      "Epoch 46/100\n",
      "17024/17049 [============================>.] - ETA: 0s - loss: 0.4921 - acc: 0.8324\n",
      "Epoch 00046: val_loss did not improve from 0.28489\n",
      "17049/17049 [==============================] - 13s - loss: 0.4920 - acc: 0.8325 - val_loss: 0.2980 - val_acc: 0.9072\n",
      "Epoch 47/100\n",
      "17024/17049 [============================>.] - ETA: 0s - loss: 0.4823 - acc: 0.8321\n",
      "Epoch 00047: val_loss improved from 0.28489 to 0.27875, saving model to weights.best.speechDL.hdf5\n",
      "17049/17049 [==============================] - 13s - loss: 0.4821 - acc: 0.8321 - val_loss: 0.2787 - val_acc: 0.9142\n",
      "Epoch 48/100\n",
      "17024/17049 [============================>.] - ETA: 0s - loss: 0.4949 - acc: 0.8304\n",
      "Epoch 00048: val_loss improved from 0.27875 to 0.27344, saving model to weights.best.speechDL.hdf5\n",
      "17049/17049 [==============================] - 13s - loss: 0.4946 - acc: 0.8305 - val_loss: 0.2734 - val_acc: 0.9162\n",
      "Epoch 49/100\n",
      "17024/17049 [============================>.] - ETA: 0s - loss: 0.4928 - acc: 0.8344\n",
      "Epoch 00049: val_loss did not improve from 0.27344\n",
      "17049/17049 [==============================] - 13s - loss: 0.4927 - acc: 0.8345 - val_loss: 0.2760 - val_acc: 0.9129\n",
      "Epoch 50/100\n",
      "17024/17049 [============================>.] - ETA: 0s - loss: 0.4854 - acc: 0.8316\n",
      "Epoch 00050: val_loss did not improve from 0.27344\n",
      "17049/17049 [==============================] - 13s - loss: 0.4852 - acc: 0.8318 - val_loss: 0.2769 - val_acc: 0.9172\n",
      "Epoch 51/100\n",
      "17024/17049 [============================>.] - ETA: 0s - loss: 0.4758 - acc: 0.8379\n",
      "Epoch 00051: val_loss improved from 0.27344 to 0.27337, saving model to weights.best.speechDL.hdf5\n",
      "17049/17049 [==============================] - 13s - loss: 0.4752 - acc: 0.8381 - val_loss: 0.2734 - val_acc: 0.9132\n",
      "Epoch 52/100\n",
      "17024/17049 [============================>.] - ETA: 0s - loss: 0.4816 - acc: 0.8358\n",
      "Epoch 00052: val_loss improved from 0.27337 to 0.26146, saving model to weights.best.speechDL.hdf5\n",
      "17049/17049 [==============================] - 14s - loss: 0.4821 - acc: 0.8357 - val_loss: 0.2615 - val_acc: 0.9196\n",
      "Epoch 53/100\n",
      "17024/17049 [============================>.] - ETA: 0s - loss: 0.4875 - acc: 0.8358\n",
      "Epoch 00053: val_loss did not improve from 0.26146\n",
      "17049/17049 [==============================] - 13s - loss: 0.4872 - acc: 0.8359 - val_loss: 0.2721 - val_acc: 0.9169\n",
      "Epoch 54/100\n",
      "17024/17049 [============================>.] - ETA: 0s - loss: 0.4830 - acc: 0.8362\n",
      "Epoch 00054: val_loss did not improve from 0.26146\n",
      "17049/17049 [==============================] - 13s - loss: 0.4834 - acc: 0.8361 - val_loss: 0.2655 - val_acc: 0.9169\n",
      "Epoch 55/100\n",
      "17024/17049 [============================>.] - ETA: 0s - loss: 0.4709 - acc: 0.8405\n",
      "Epoch 00055: val_loss did not improve from 0.26146\n",
      "17049/17049 [==============================] - 13s - loss: 0.4711 - acc: 0.8405 - val_loss: 0.2716 - val_acc: 0.9135\n",
      "Epoch 56/100\n",
      "17024/17049 [============================>.] - ETA: 0s - loss: 0.4642 - acc: 0.8399\n",
      "Epoch 00056: val_loss did not improve from 0.26146\n",
      "17049/17049 [==============================] - 13s - loss: 0.4644 - acc: 0.8398 - val_loss: 0.2689 - val_acc: 0.9135\n",
      "Epoch 57/100\n",
      "17024/17049 [============================>.] - ETA: 0s - loss: 0.4772 - acc: 0.8384\n",
      "Epoch 00057: val_loss did not improve from 0.26146\n",
      "17049/17049 [==============================] - 13s - loss: 0.4773 - acc: 0.8383 - val_loss: 0.2734 - val_acc: 0.9099\n",
      "Epoch 58/100\n",
      "17024/17049 [============================>.] - ETA: 0s - loss: 0.4611 - acc: 0.8446\n",
      "Epoch 00058: val_loss did not improve from 0.26146\n",
      "17049/17049 [==============================] - 13s - loss: 0.4614 - acc: 0.8446 - val_loss: 0.2683 - val_acc: 0.9142\n",
      "Epoch 59/100\n",
      "17024/17049 [============================>.] - ETA: 0s - loss: 0.4599 - acc: 0.8447\n",
      "Epoch 00059: val_loss did not improve from 0.26146\n",
      "17049/17049 [==============================] - 13s - loss: 0.4598 - acc: 0.8446 - val_loss: 0.2733 - val_acc: 0.9179\n",
      "Epoch 60/100\n",
      "17024/17049 [============================>.] - ETA: 0s - loss: 0.4587 - acc: 0.8441\n",
      "Epoch 00060: val_loss improved from 0.26146 to 0.25539, saving model to weights.best.speechDL.hdf5\n",
      "17049/17049 [==============================] - 13s - loss: 0.4584 - acc: 0.8442 - val_loss: 0.2554 - val_acc: 0.9186\n",
      "Epoch 61/100\n",
      "17024/17049 [============================>.] - ETA: 0s - loss: 0.4472 - acc: 0.8475\n",
      "Epoch 00061: val_loss did not improve from 0.25539\n",
      "17049/17049 [==============================] - 13s - loss: 0.4472 - acc: 0.8474 - val_loss: 0.2672 - val_acc: 0.9169\n",
      "Epoch 62/100\n",
      "17024/17049 [============================>.] - ETA: 0s - loss: 0.4549 - acc: 0.8430\n",
      "Epoch 00062: val_loss did not improve from 0.25539\n",
      "17049/17049 [==============================] - 13s - loss: 0.4545 - acc: 0.8432 - val_loss: 0.2704 - val_acc: 0.9152\n",
      "Epoch 63/100\n",
      "17024/17049 [============================>.] - ETA: 0s - loss: 0.4577 - acc: 0.8463\n",
      "Epoch 00063: val_loss did not improve from 0.25539\n",
      "17049/17049 [==============================] - 13s - loss: 0.4577 - acc: 0.8463 - val_loss: 0.2605 - val_acc: 0.9145\n",
      "Epoch 64/100\n",
      "17024/17049 [============================>.] - ETA: 0s - loss: 0.4518 - acc: 0.8458\n",
      "Epoch 00064: val_loss improved from 0.25539 to 0.25407, saving model to weights.best.speechDL.hdf5\n",
      "17049/17049 [==============================] - 13s - loss: 0.4516 - acc: 0.8459 - val_loss: 0.2541 - val_acc: 0.9212\n",
      "Epoch 65/100\n",
      "17024/17049 [============================>.] - ETA: 0s - loss: 0.4445 - acc: 0.8476\n",
      "Epoch 00065: val_loss improved from 0.25407 to 0.25070, saving model to weights.best.speechDL.hdf5\n",
      "17049/17049 [==============================] - 14s - loss: 0.4446 - acc: 0.8476 - val_loss: 0.2507 - val_acc: 0.9186\n",
      "Epoch 66/100\n",
      "17024/17049 [============================>.] - ETA: 0s - loss: 0.4475 - acc: 0.8483\n",
      "Epoch 00066: val_loss did not improve from 0.25070\n",
      "17049/17049 [==============================] - 13s - loss: 0.4477 - acc: 0.8482 - val_loss: 0.2587 - val_acc: 0.9179\n",
      "Epoch 67/100\n",
      "17024/17049 [============================>.] - ETA: 0s - loss: 0.4345 - acc: 0.8532\n",
      "Epoch 00067: val_loss did not improve from 0.25070\n",
      "17049/17049 [==============================] - 13s - loss: 0.4343 - acc: 0.8532 - val_loss: 0.2563 - val_acc: 0.9206\n",
      "Epoch 68/100\n",
      "17024/17049 [============================>.] - ETA: 0s - loss: 0.4473 - acc: 0.8459\n",
      "Epoch 00068: val_loss improved from 0.25070 to 0.24874, saving model to weights.best.speechDL.hdf5\n",
      "17049/17049 [==============================] - 13s - loss: 0.4473 - acc: 0.8459 - val_loss: 0.2487 - val_acc: 0.9229\n",
      "Epoch 69/100\n",
      "17024/17049 [============================>.] - ETA: 0s - loss: 0.4367 - acc: 0.8520\n",
      "Epoch 00069: val_loss did not improve from 0.24874\n",
      "17049/17049 [==============================] - 13s - loss: 0.4367 - acc: 0.8519 - val_loss: 0.2522 - val_acc: 0.9202\n",
      "Epoch 70/100\n",
      "17024/17049 [============================>.] - ETA: 0s - loss: 0.4361 - acc: 0.8529\n",
      "Epoch 00070: val_loss improved from 0.24874 to 0.24628, saving model to weights.best.speechDL.hdf5\n",
      "17049/17049 [==============================] - 13s - loss: 0.4358 - acc: 0.8529 - val_loss: 0.2463 - val_acc: 0.9202\n",
      "Epoch 71/100\n",
      "17024/17049 [============================>.] - ETA: 0s - loss: 0.4425 - acc: 0.8482\n",
      "Epoch 00071: val_loss did not improve from 0.24628\n",
      "17049/17049 [==============================] - 13s - loss: 0.4428 - acc: 0.8481 - val_loss: 0.2508 - val_acc: 0.9209\n",
      "Epoch 72/100\n",
      "17024/17049 [============================>.] - ETA: 0s - loss: 0.4405 - acc: 0.8499\n",
      "Epoch 00072: val_loss improved from 0.24628 to 0.24533, saving model to weights.best.speechDL.hdf5\n",
      "17049/17049 [==============================] - 13s - loss: 0.4407 - acc: 0.8498 - val_loss: 0.2453 - val_acc: 0.9233\n",
      "Epoch 73/100\n",
      "17024/17049 [============================>.] - ETA: 0s - loss: 0.4222 - acc: 0.8553\n",
      "Epoch 00073: val_loss improved from 0.24533 to 0.24315, saving model to weights.best.speechDL.hdf5\n",
      "17049/17049 [==============================] - 14s - loss: 0.4222 - acc: 0.8552 - val_loss: 0.2431 - val_acc: 0.9256\n",
      "Epoch 74/100\n",
      "17024/17049 [============================>.] - ETA: 0s - loss: 0.4380 - acc: 0.8515\n",
      "Epoch 00074: val_loss did not improve from 0.24315\n",
      "17049/17049 [==============================] - 13s - loss: 0.4378 - acc: 0.8515 - val_loss: 0.2434 - val_acc: 0.9179\n",
      "Epoch 75/100\n",
      "17024/17049 [============================>.] - ETA: 0s - loss: 0.4405 - acc: 0.8506\n",
      "Epoch 00075: val_loss improved from 0.24315 to 0.24305, saving model to weights.best.speechDL.hdf5\n",
      "17049/17049 [==============================] - 13s - loss: 0.4404 - acc: 0.8507 - val_loss: 0.2430 - val_acc: 0.9172\n",
      "Epoch 76/100\n",
      "17024/17049 [============================>.] - ETA: 0s - loss: 0.4252 - acc: 0.8557\n",
      "Epoch 00076: val_loss did not improve from 0.24305\n",
      "17049/17049 [==============================] - 13s - loss: 0.4250 - acc: 0.8558 - val_loss: 0.2472 - val_acc: 0.9186\n",
      "Epoch 77/100\n",
      "17024/17049 [============================>.] - ETA: 0s - loss: 0.4307 - acc: 0.8540\n",
      "Epoch 00077: val_loss improved from 0.24305 to 0.23649, saving model to weights.best.speechDL.hdf5\n",
      "17049/17049 [==============================] - 13s - loss: 0.4305 - acc: 0.8541 - val_loss: 0.2365 - val_acc: 0.9243\n",
      "Epoch 78/100\n",
      "17024/17049 [============================>.] - ETA: 0s - loss: 0.4292 - acc: 0.8547\n",
      "Epoch 00078: val_loss did not improve from 0.23649\n",
      "17049/17049 [==============================] - 13s - loss: 0.4288 - acc: 0.8549 - val_loss: 0.2495 - val_acc: 0.9216\n",
      "Epoch 79/100\n",
      "17024/17049 [============================>.] - ETA: 0s - loss: 0.4199 - acc: 0.8549\n",
      "Epoch 00079: val_loss did not improve from 0.23649\n",
      "17049/17049 [==============================] - 13s - loss: 0.4200 - acc: 0.8548 - val_loss: 0.2483 - val_acc: 0.9179\n",
      "Epoch 80/100\n",
      "17024/17049 [============================>.] - ETA: 0s - loss: 0.4115 - acc: 0.8570\n",
      "Epoch 00080: val_loss did not improve from 0.23649\n",
      "17049/17049 [==============================] - 13s - loss: 0.4119 - acc: 0.8568 - val_loss: 0.2437 - val_acc: 0.9202\n",
      "Epoch 81/100\n",
      "17024/17049 [============================>.] - ETA: 0s - loss: 0.4271 - acc: 0.8564\n",
      "Epoch 00081: val_loss improved from 0.23649 to 0.23619, saving model to weights.best.speechDL.hdf5\n",
      "17049/17049 [==============================] - 13s - loss: 0.4271 - acc: 0.8564 - val_loss: 0.2362 - val_acc: 0.9269\n",
      "Epoch 82/100\n",
      "17024/17049 [============================>.] - ETA: 0s - loss: 0.4227 - acc: 0.8560\n",
      "Epoch 00082: val_loss did not improve from 0.23619\n",
      "17049/17049 [==============================] - 13s - loss: 0.4228 - acc: 0.8559 - val_loss: 0.2483 - val_acc: 0.9182\n",
      "Epoch 83/100\n",
      "17024/17049 [============================>.] - ETA: 0s - loss: 0.4208 - acc: 0.8598\n",
      "Epoch 00083: val_loss did not improve from 0.23619\n",
      "17049/17049 [==============================] - 13s - loss: 0.4206 - acc: 0.8597 - val_loss: 0.2386 - val_acc: 0.9249\n",
      "Epoch 84/100\n"
     ]
    },
    {
     "name": "stdout",
     "output_type": "stream",
     "text": [
      "17024/17049 [============================>.] - ETA: 0s - loss: 0.4183 - acc: 0.8561\n",
      "Epoch 00084: val_loss did not improve from 0.23619\n",
      "17049/17049 [==============================] - 13s - loss: 0.4182 - acc: 0.8560 - val_loss: 0.2456 - val_acc: 0.9196\n",
      "Epoch 85/100\n",
      "17024/17049 [============================>.] - ETA: 0s - loss: 0.4102 - acc: 0.8622\n",
      "Epoch 00085: val_loss did not improve from 0.23619\n",
      "17049/17049 [==============================] - 13s - loss: 0.4101 - acc: 0.8622 - val_loss: 0.2382 - val_acc: 0.9233\n",
      "Epoch 86/100\n",
      "17024/17049 [============================>.] - ETA: 0s - loss: 0.4118 - acc: 0.8584\n",
      "Epoch 00086: val_loss did not improve from 0.23619\n",
      "17049/17049 [==============================] - 13s - loss: 0.4122 - acc: 0.8583 - val_loss: 0.2449 - val_acc: 0.9199\n",
      "Epoch 87/100\n",
      "17024/17049 [============================>.] - ETA: 0s - loss: 0.4095 - acc: 0.8604\n",
      "Epoch 00087: val_loss improved from 0.23619 to 0.22839, saving model to weights.best.speechDL.hdf5\n",
      "17049/17049 [==============================] - 13s - loss: 0.4095 - acc: 0.8605 - val_loss: 0.2284 - val_acc: 0.9279\n",
      "Epoch 88/100\n",
      "17024/17049 [============================>.] - ETA: 0s - loss: 0.4098 - acc: 0.8588\n",
      "Epoch 00088: val_loss did not improve from 0.22839\n",
      "17049/17049 [==============================] - 13s - loss: 0.4096 - acc: 0.8588 - val_loss: 0.2334 - val_acc: 0.9249\n",
      "Epoch 89/100\n",
      "17024/17049 [============================>.] - ETA: 0s - loss: 0.4108 - acc: 0.8597\n",
      "Epoch 00089: val_loss did not improve from 0.22839\n",
      "17049/17049 [==============================] - 13s - loss: 0.4107 - acc: 0.8597 - val_loss: 0.2476 - val_acc: 0.9179\n",
      "Epoch 90/100\n",
      "17024/17049 [============================>.] - ETA: 0s - loss: 0.4097 - acc: 0.8606\n",
      "Epoch 00090: val_loss did not improve from 0.22839\n",
      "17049/17049 [==============================] - 13s - loss: 0.4103 - acc: 0.8604 - val_loss: 0.2391 - val_acc: 0.9216\n",
      "Epoch 91/100\n",
      "17024/17049 [============================>.] - ETA: 0s - loss: 0.4134 - acc: 0.8588\n",
      "Epoch 00091: val_loss did not improve from 0.22839\n",
      "17049/17049 [==============================] - 13s - loss: 0.4139 - acc: 0.8588 - val_loss: 0.2360 - val_acc: 0.9273\n",
      "Epoch 92/100\n",
      "17024/17049 [============================>.] - ETA: 0s - loss: 0.4132 - acc: 0.8580\n",
      "Epoch 00092: val_loss did not improve from 0.22839\n",
      "17049/17049 [==============================] - 13s - loss: 0.4133 - acc: 0.8580 - val_loss: 0.2401 - val_acc: 0.9236\n",
      "Epoch 93/100\n",
      "17024/17049 [============================>.] - ETA: 0s - loss: 0.4018 - acc: 0.8604\n",
      "Epoch 00093: val_loss did not improve from 0.22839\n",
      "17049/17049 [==============================] - 13s - loss: 0.4019 - acc: 0.8604 - val_loss: 0.2291 - val_acc: 0.9233\n",
      "Epoch 94/100\n",
      "17024/17049 [============================>.] - ETA: 0s - loss: 0.4013 - acc: 0.8658\n",
      "Epoch 00094: val_loss did not improve from 0.22839\n",
      "17049/17049 [==============================] - 13s - loss: 0.4013 - acc: 0.8658 - val_loss: 0.2294 - val_acc: 0.9243\n",
      "Epoch 95/100\n",
      "17024/17049 [============================>.] - ETA: 0s - loss: 0.4140 - acc: 0.8607\n",
      "Epoch 00095: val_loss did not improve from 0.22839\n",
      "17049/17049 [==============================] - 13s - loss: 0.4148 - acc: 0.8606 - val_loss: 0.2389 - val_acc: 0.9219\n",
      "Epoch 96/100\n",
      "17024/17049 [============================>.] - ETA: 0s - loss: 0.3939 - acc: 0.8652\n",
      "Epoch 00096: val_loss did not improve from 0.22839\n",
      "17049/17049 [==============================] - 13s - loss: 0.3940 - acc: 0.8652 - val_loss: 0.2319 - val_acc: 0.9249\n",
      "Epoch 97/100\n",
      "17024/17049 [============================>.] - ETA: 0s - loss: 0.3938 - acc: 0.8670\n",
      "Epoch 00097: val_loss did not improve from 0.22839\n",
      "17049/17049 [==============================] - 13s - loss: 0.3935 - acc: 0.8671 - val_loss: 0.2316 - val_acc: 0.9246\n",
      "Epoch 98/100\n",
      "17024/17049 [============================>.] - ETA: 0s - loss: 0.4136 - acc: 0.8603\n",
      "Epoch 00098: val_loss did not improve from 0.22839\n",
      "17049/17049 [==============================] - 13s - loss: 0.4141 - acc: 0.8601 - val_loss: 0.2314 - val_acc: 0.9239\n",
      "Epoch 99/100\n",
      "17024/17049 [============================>.] - ETA: 0s - loss: 0.4000 - acc: 0.8630\n",
      "Epoch 00099: val_loss did not improve from 0.22839\n",
      "17049/17049 [==============================] - 13s - loss: 0.3997 - acc: 0.8631 - val_loss: 0.2341 - val_acc: 0.9229\n",
      "Epoch 100/100\n",
      "17024/17049 [============================>.] - ETA: 0s - loss: 0.4012 - acc: 0.8640\n",
      "Epoch 00100: val_loss did not improve from 0.22839\n",
      "17049/17049 [==============================] - 13s - loss: 0.4013 - acc: 0.8640 - val_loss: 0.2333 - val_acc: 0.9249\n",
      "Training completed in time:  0:22:24.011500\n"
     ]
    }
   ],
   "source": [
    "num_batch_size = 128\n",
    "num_epochs = 100\n",
    "checkpointer = ModelCheckpoint(filepath='weights.best.speechDL.hdf5', \n",
    "                               verbose=1, save_best_only=True)\n",
    "start = datetime.now()\n",
    "history = model.fit(x_train_r, y_train_r, batch_size=num_batch_size, epochs=num_epochs, \n",
    "                    validation_data=(x_valid_r, y_valid_r), callbacks=[checkpointer], verbose=1)\n",
    "duration = datetime.now() - start\n",
    "print(\"Training completed in time: \", duration)"
   ]
  },
  {
   "cell_type": "code",
   "execution_count": 22,
   "metadata": {},
   "outputs": [
    {
     "name": "stdout",
     "output_type": "stream",
     "text": [
      "Training Accuracy:  0.9531937357029738\n",
      "Testing Accuracy:  0.9272869429707621\n"
     ]
    }
   ],
   "source": [
    "# Evaluating the model on the training and testing set\n",
    "score = model.evaluate(x_train_r, y_train_r, verbose=0)\n",
    "print(\"Training Accuracy: \", score[1])\n",
    "\n",
    "score = model.evaluate(x_test_r, y_test_r, verbose=0)\n",
    "print(\"Testing Accuracy: \", score[1])"
   ]
  },
  {
   "cell_type": "code",
   "execution_count": 23,
   "metadata": {},
   "outputs": [
    {
     "data": {
      "image/png": "[encoded data removed]",
      "text/plain": [
       "<Figure size 432x288 with 1 Axes>"
      ]
     },
     "metadata": {},
     "output_type": "display_data"
    },
    {
     "data": {
      "image/png": "[encoded data removed]",
      "text/plain": [
       "<Figure size 432x288 with 1 Axes>"
      ]
     },
     "metadata": {},
     "output_type": "display_data"
    }
   ],
   "source": [
    "import matplotlib.pyplot as plt\n",
    "plt.figure()\n",
    "plt.subplot(211)\n",
    "plt.plot(history.history['loss'])\n",
    "plt.plot(history.history['val_loss'])\n",
    "plt.title('model loss')\n",
    "plt.ylabel('loss')\n",
    "plt.xlabel('epoch')\n",
    "plt.legend(['train', 'validation'], loc='lower right')\n",
    "plt.show()\n",
    "ax = plt.gca()\n",
    "ax.set_xticklabels([])\n",
    "plt.subplot(212)\n",
    "plt.plot(history.history['acc'])\n",
    "plt.plot(history.history['val_acc'])\n",
    "plt.title('model accuracy')\n",
    "plt.ylabel('accuracy')\n",
    "plt.xlabel('epoch')\n",
    "plt.legend(['train', 'validation'], loc='lower right')\n",
    "plt.show()"
   ]
  },
  {
   "cell_type": "code",
   "execution_count": 24,
   "metadata": {},
   "outputs": [
    {
     "name": "stdout",
     "output_type": "stream",
     "text": [
      "Best accuracy (on testing dataset): 92.73%\n",
      "              precision    recall  f1-score   support\n",
      "\n",
      "          go     0.9314    0.8559    0.8920       111\n",
      "        stop     0.8783    0.8559    0.8670       118\n",
      "         yes     0.9848    0.9559    0.9701       136\n",
      "          no     0.8783    0.8860    0.8821       114\n",
      "          up     0.9242    0.9457    0.9349       129\n",
      "        down     0.8815    0.9520    0.9154       125\n",
      "        left     0.9379    0.9784    0.9577       139\n",
      "       right     0.9771    0.9343    0.9552       137\n",
      "          on     0.8841    0.9313    0.9071       131\n",
      "         off     0.9851    0.9496    0.9670       139\n",
      "\n",
      "   micro avg     0.9273    0.9273    0.9273      1279\n",
      "   macro avg     0.9263    0.9245    0.9249      1279\n",
      "weighted avg     0.9284    0.9273    0.9273      1279\n",
      "\n"
     ]
    }
   ],
   "source": [
    "predicts = model.predict(x_test_r)\n",
    "predout = np.argmax(predicts, axis=1)\n",
    "testout = np.argmax(y_test_r, axis=1)\n",
    "testScores  = metrics.accuracy_score(testout,predout)\n",
    "confusion   = metrics.confusion_matrix(testout,predout)\n",
    "print(\"Best accuracy (on testing dataset): %.2f%%\" % (testScores*100))\n",
    "print(metrics.classification_report(testout,predout,target_names=featuresdf.class_label.unique(),digits=4))"
   ]
  },
  {
   "cell_type": "code",
   "execution_count": 25,
   "metadata": {},
   "outputs": [
    {
     "data": {
      "text/plain": [
       "Text(0.5, 25.0, 'Predicted Label')"
      ]
     },
     "execution_count": 25,
     "metadata": {},
     "output_type": "execute_result"
    },
    {
     "data": {
      "image/png": "[encoded data removed]",
      "text/plain": [
       "<Figure size 360x360 with 2 Axes>"
      ]
     },
     "metadata": {},
     "output_type": "display_data"
    }
   ],
   "source": [
    "import seaborn as sn\n",
    "df_cm = pd.DataFrame(confusion, index = featuresdf.class_label.unique(),\n",
    "                  columns = featuresdf.class_label.unique())\n",
    "plt.figure(figsize=(5,5))\n",
    "ax=sn.heatmap(df_cm, cmap=\"YlGnBu\", fmt=\"d\", annot=True)\n",
    "ax.set_xticklabels(\n",
    "   ax.get_xticklabels(),\n",
    "   rotation=45,\n",
    "   horizontalalignment='left'\n",
    ")\n",
    "ax.set_ylabel(\"Actual Label\")\n",
    "ax.set_xlabel(\"Predicted Label\")"
   ]
  },
  {
   "cell_type": "code",
   "execution_count": 45,
   "metadata": {},
   "outputs": [
    {
     "name": "stdout",
     "output_type": "stream",
     "text": [
      "WARNING:tensorflow:Error in loading the saved optimizer state. As a result, your model is starting with a freshly initialized optimizer.\n"
     ]
    }
   ],
   "source": [
    "from tensorflow.keras.models import load_model\n",
    "filename = 'weights.best.speechDL.hdf5'\n",
    "model_test = load_model(filename)"
   ]
  },
  {
   "cell_type": "code",
   "execution_count": 46,
   "metadata": {},
   "outputs": [
    {
     "name": "stdout",
     "output_type": "stream",
     "text": [
      "[-6.1035156e-05 -3.0517578e-05  9.1552734e-05 ... -2.1667480e-03\n",
      " -1.1596680e-03 -2.1362305e-04]\n"
     ]
    },
    {
     "data": {
      "text/plain": [
       "(1, 60, 32)"
      ]
     },
     "execution_count": 46,
     "metadata": {},
     "output_type": "execute_result"
    }
   ],
   "source": [
    "features_01 = []\n",
    "test_file_name = \"voice01.wav\"\n",
    "(smp_01, smpR_01) = librosa.load(test_file_name, sr =sr)\n",
    "print(smp_01)\n",
    "mfccs = librosa.feature.mfcc(y=smp_01, sr=sr, n_mfcc=60)\n",
    "pad_width = 32 - mfccs.shape[1]\n",
    "mfccs = np.pad(mfccs, pad_width=((0, 0), (0, pad_width)), mode='constant')\n",
    "features_01.append([mfccs])\n",
    "featuresdf_01 = pd.DataFrame(features_01, columns=['feature'])\n",
    "data_01=np.array(featuresdf_01['feature'].tolist())\n",
    "data_01.shape"
   ]
  },
  {
   "cell_type": "code",
   "execution_count": 47,
   "metadata": {},
   "outputs": [
    {
     "name": "stdout",
     "output_type": "stream",
     "text": [
      "(1, 60, 32, 1)\n",
      "[6]\n",
      "The voice01.wav is:  ['right']\n"
     ]
    }
   ],
   "source": [
    "test_01 = data_01.reshape(data_01.shape[0], num_rows, num_columns, num_channels)\n",
    "print(test_01.shape)\n",
    "predict_01 = model_test.predict(test_01)\n",
    "predout_01 = np.argmax(predict_01, axis=1)\n",
    "print(predout_01)\n",
    "print(\"The voice01.wav is: \",le.classes_[predout_01])"
   ]
  }
 ],
 "metadata": {
  "kernelspec": {
   "display_name": "Python 3",
   "language": "python",
   "name": "python3"
  },
  "language_info": {
   "codemirror_mode": {
    "name": "ipython",
    "version": 3
   },
   "file_extension": ".py",
   "mimetype": "text/x-python",
   "name": "python",
   "nbconvert_exporter": "python",
   "pygments_lexer": "ipython3",
   "version": "3.7.3"
  }
 },
 "nbformat": 4,
 "nbformat_minor": 2
}
