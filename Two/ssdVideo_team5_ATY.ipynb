{
 "cells": [
  {
   "cell_type": "markdown",
   "metadata": {},
   "source": [
    "## Team 5 members: Ang Boon Yew (A0096966E), Tea Lee Seng (A0198538J), Yang Xiaoyan (A0056720L)"
   ]
  },
  {
   "cell_type": "code",
   "execution_count": 1,
   "metadata": {},
   "outputs": [],
   "source": [
    "# -*- coding: utf-8 -*-\n",
    "import cv2\n",
    "import numpy as np"
   ]
  },
  {
   "cell_type": "code",
   "execution_count": 2,
   "metadata": {},
   "outputs": [],
   "source": [
    "videopath       = 'ironman.mp4'\n",
    "outpath         = 'ssd_ironman.mp4'\n",
    "prototxt        = 'MobileNetSSD_deploy.prototxt'\n",
    "caffemodel      = 'MobileNetSSD_deploy.caffemodel'\n",
    "scoreThres      = 0.6\n",
    "nmsThres        = 0.4\n",
    "classNames      = {0: 'background',\n",
    "                   1: 'aeroplane', \n",
    "                   2: 'bicycle', \n",
    "                   3: 'bird', \n",
    "                   4: 'boat',\n",
    "                   5: 'bottle', \n",
    "                   6: 'bus', \n",
    "                   7: 'car', \n",
    "                   8: 'cat', \n",
    "                   9: 'chair',\n",
    "                   10: 'cow', \n",
    "                   11: 'diningtable', \n",
    "                   12: 'dog', \n",
    "                   13: 'horse',\n",
    "                   14: 'motorbike', \n",
    "                   15: 'person', \n",
    "                   16: 'pottedplant',\n",
    "                   17: 'sheep', \n",
    "                   18: 'sofa', \n",
    "                   19: 'train', \n",
    "                   20: 'tvmonitor'}"
   ]
  },
  {
   "cell_type": "code",
   "execution_count": 3,
   "metadata": {},
   "outputs": [],
   "source": [
    "net             = cv2.dnn.readNetFromCaffe(prototxt,\n",
    "                                           caffemodel)"
   ]
  },
  {
   "cell_type": "code",
   "execution_count": 4,
   "metadata": {},
   "outputs": [
    {
     "name": "stdout",
     "output_type": "stream",
     "text": [
      "Analyzing video ...\n"
     ]
    }
   ],
   "source": [
    "print(\"Analyzing video ...\")\n",
    "vs              = cv2.VideoCapture(videopath)\n",
    "fps             = vs.get(cv2.CAP_PROP_FPS)\n",
    "W               = int(vs.get(cv2.CAP_PROP_FRAME_WIDTH))\n",
    "H               = int(vs.get(cv2.CAP_PROP_FRAME_HEIGHT))\n",
    "writer          = None"
   ]
  },
  {
   "cell_type": "markdown",
   "metadata": {},
   "source": [
    "## Draw bounding boxes and put objects' name after apply non-maximal suppresion"
   ]
  },
  {
   "cell_type": "code",
   "execution_count": 5,
   "metadata": {},
   "outputs": [],
   "source": [
    "def pltDetect(img,boxes,classId,confidences, scoreThres = scoreThres,nmsThres=nmsThres):\n",
    "    img_org=img.copy()\n",
    "    selected = cv2.dnn.NMSBoxes(bboxes=boxes,\n",
    "                                scores=confidences,\n",
    "                                score_threshold=scoreThres,\n",
    "                                nms_threshold=nmsThres)\n",
    "    colorset = np.random.uniform(0,\n",
    "                                127,\n",
    "                                size=(len(classNames),3))\n",
    "\n",
    "    for j in selected:\n",
    "        j = j[0]\n",
    "        box = boxes[j]\n",
    "        color = colorset[classId[j]]\n",
    "        txtlbl = str(classNames[classId[j]])\n",
    "        confid = str(round(confidences[j],2))\n",
    "        txtsize = cv2.getTextSize(txtlbl + confid,\n",
    "                                    cv2.FONT_HERSHEY_SIMPLEX,\n",
    "                                    0.5,\n",
    "                                    1)\n",
    "        bsize = txtsize[0]\n",
    "        bsline = txtsize[1]\n",
    "        x = int(box[0])\n",
    "        y = int(box[1])\n",
    "        w = int(box[2])\n",
    "        h = int(box[3])\n",
    "        cv2.rectangle(img,\n",
    "                    (x,y),\n",
    "                    (x+w,y+h),\n",
    "                    (0, 255, 0),\n",
    "                    2)\n",
    "\n",
    "        cv2.rectangle(output,          # draw text box\n",
    "                          (x-1,y),\n",
    "                          (x+bsize[0],y+bsize[1]+bsline),\n",
    "                          (0, 255, 0),\n",
    "                          -1)\n",
    "\n",
    "        cv2.putText(img,\n",
    "                    txtlbl + confid,\n",
    "                    (x-1,y+bsize[1]),\n",
    "                    cv2.FONT_HERSHEY_SIMPLEX,\n",
    "                    0.5,\n",
    "                    (0, 0, 0),\n",
    "                    1,\n",
    "                    cv2.LINE_AA)"
   ]
  },
  {
   "cell_type": "markdown",
   "metadata": {},
   "source": [
    "## Detect objects in the frame and return the bounding boxes, class ID and confidence level"
   ]
  },
  {
   "cell_type": "code",
   "execution_count": 6,
   "metadata": {},
   "outputs": [],
   "source": [
    "def ssdDetect(img,scFactor=1/127.5,nrMean=(127.5,127.5,127.5),RBSwap=False):\n",
    "    blob = cv2.dnn.blobFromImage(image=img,\n",
    "                                scalefactor=scFactor,\n",
    "                                size=(300, 300),\n",
    "                                mean=nrMean,\n",
    "                                swapRB=RBSwap,\n",
    "                                crop=False)\n",
    "    rows = blob.shape[2]\n",
    "    cols = blob.shape[3]\n",
    "    net.setInput(blob)\n",
    "    pred = net.forward()\n",
    "\n",
    "    classIds = []\n",
    "    confidences = []\n",
    "    boxes = []\n",
    "    numOfObjects= pred.shape[2]\n",
    "\n",
    "    for i in range(numOfObjects):\n",
    "        confidence  = pred[0, 0, i, 2]      # confidence score\n",
    "        classId     = int(pred[0, 0, i, 1]) # Class label\n",
    "                                            # Object location \n",
    "\n",
    "        x1          = int(pred[0, 0, i, 3] * cols) \n",
    "        y1          = int(pred[0, 0, i, 4] * rows)\n",
    "        x2          = int(pred[0, 0, i, 5] * cols)\n",
    "        y2          = int(pred[0, 0, i, 6] * rows)\n",
    "\n",
    "                                            # Factor for scaling\n",
    "        hFactor     = H/300.0  \n",
    "        wFactor     = W/300.0\n",
    "\n",
    "                                            # Rescale the positions\n",
    "        x1          = int(wFactor*x1) \n",
    "        y1          = int(hFactor*y1)\n",
    "        x2          = int(wFactor*x2)\n",
    "        y2          = int(hFactor*y2)\n",
    "\n",
    "        x           = x1\n",
    "        y           = y1\n",
    "        w           = x2-x1\n",
    "        h           = y2-y1\n",
    "        classIds.append(classId)\n",
    "        confidences.append(float(confidence))\n",
    "        boxes.append([x, y, w, h])\n",
    "    return [boxes,classIds,confidences]"
   ]
  },
  {
   "cell_type": "code",
   "execution_count": 7,
   "metadata": {},
   "outputs": [],
   "source": [
    "while True:\n",
    "    (grabbed,\n",
    "     frame)     = vs.read()\n",
    "\n",
    "    if not grabbed:\n",
    "        break\n",
    "\n",
    "    output      = frame.copy()    \n",
    "    boxes,classId,confidences = ssdDetect(output)\n",
    "    pltDetect(output,boxes,classId,confidences,scoreThres=scoreThres,nmsThres=nmsThres)\n",
    "\n",
    "    if writer is None:\n",
    "        fourcc = cv2.VideoWriter_fourcc(*\"X264\")\n",
    "                                            # Use X264 encoder to encode video into\n",
    "                                            #   H.264 encoding standard\n",
    "        writer = cv2.VideoWriter(outpath,\n",
    "                                 fourcc,\n",
    "                                 fps,\n",
    "                                 (W, H),\n",
    "                                 True)\n",
    "\n",
    "                            # Write the output frame to disk\n",
    "    writer.write(output)        \n",
    "    cv2.imshow(\"SSD detection\",output)\n",
    "    \n",
    "    if cv2.waitKey(1) >= 0:  # Break with ESC \n",
    "        break"
   ]
  },
  {
   "cell_type": "code",
   "execution_count": 8,
   "metadata": {},
   "outputs": [
    {
     "name": "stdout",
     "output_type": "stream",
     "text": [
      "Closing ...\n"
     ]
    }
   ],
   "source": [
    "print(\"Closing ...\")\n",
    "writer.release()\n",
    "vs.release()"
   ]
  },
  {
   "cell_type": "code",
   "execution_count": null,
   "metadata": {},
   "outputs": [],
   "source": []
  }
 ],
 "metadata": {
  "kernelspec": {
   "display_name": "Python 3",
   "language": "python",
   "name": "python3"
  },
  "language_info": {
   "codemirror_mode": {
    "name": "ipython",
    "version": 3
   },
   "file_extension": ".py",
   "mimetype": "text/x-python",
   "name": "python",
   "nbconvert_exporter": "python",
   "pygments_lexer": "ipython3",
   "version": "3.7.3"
  }
 },
 "nbformat": 4,
 "nbformat_minor": 2
}
